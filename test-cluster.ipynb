{
 "cells": [
  {
   "cell_type": "markdown",
   "id": "5a5ce546-0f04-4e68-ad42-9e7b25f617a5",
   "metadata": {},
   "source": [
    "### Para probar como funciona el k-means Cluster"
   ]
  },
  {
   "cell_type": "code",
   "execution_count": 49,
   "id": "d883f0a3-7343-498b-97cf-48ce732a7621",
   "metadata": {},
   "outputs": [],
   "source": [
    "from microtc.utils import load_model, save_model\n",
    "from sklearn.cluster import MiniBatchKMeans\n",
    "import fasttext\n",
    "import numpy as np\n",
    "from sklearn import preprocessing"
   ]
  },
  {
   "cell_type": "code",
   "execution_count": 50,
   "id": "e6755c52-d286-4c98-b6ba-a85be776d16b",
   "metadata": {},
   "outputs": [
    {
     "name": "stderr",
     "output_type": "stream",
     "text": [
      "C:\\Users\\Calderas\\Anaconda3\\lib\\site-packages\\sklearn\\base.py:315: UserWarning: Trying to unpickle estimator MiniBatchKMeans from version 1.0 when using version 0.24.2. This might lead to breaking code or invalid results. Use at your own risk.\n",
      "  UserWarning)\n",
      "Warning : `load_model` does not return WordVectorModel or SupervisedModel any more, but a `FastText` object which is very similar.\n"
     ]
    }
   ],
   "source": [
    "# Cargar el Cluster\n",
    "# Es un cluster de Vectores de palabras\n",
    "# 10,000 centroites/labels\n",
    "# las labels de los centroides son Indices (enteros)\n",
    "# se predice con el vector de la palabra a buscar\n",
    "kmeans_mini: MiniBatchKMeans = load_model('../kmeans/kmeans_mini_10000.obj')\n",
    "# se requiere la lista de palabras del MX.bin para poder generar/obtener el vector correspondiente   \n",
    "ft_mx = fasttext.load_model('../ft_data/MX.bin')\n",
    "words = np.array(ft_mx.get_words())"
   ]
  },
  {
   "cell_type": "code",
   "execution_count": 53,
   "id": "66588f93-95da-4e60-9869-e4cecba6d5d0",
   "metadata": {},
   "outputs": [],
   "source": [
    "tok = 'pirujo' #token/palabra a buscar\n",
    "v_of_tok = ft_mx.get_word_vector(tok) # vector del token\n",
    "v_normalized = preprocessing.normalize([v_of_tok]) #normalizar el vector (los vectores del cluster estan normalizados)\n",
    "idx_cluster_of_tok = kmeans_mini.predict(v_normalized) #regresa el Indice del cluster al que pertenece el vector del tok\n",
    "idxs_into_cluster_of_tok = np.where(kmeans_mini.labels_ == idx_cluster_of_tok)[0] # extraer todos los indices contenidos en el cluster\n",
    "words_in_cluster = words[idxs_into_cluster_of_tok] # convetir los indices en sus correspondientes palabras en el words de MX.bin\n",
    "longest_w_into_cluster = max(words_in_cluster, key=len) # seleccionar la palabra mas larga"
   ]
  },
  {
   "cell_type": "code",
   "execution_count": 64,
   "id": "6d994abe-384f-4baa-87e0-8d55b82f4e17",
   "metadata": {},
   "outputs": [
    {
     "data": {
      "text/plain": [
       "'para el tok pirujo se encontro el cluster con indice 3621 cuya palabra mas larga es patansillo'"
      ]
     },
     "execution_count": 64,
     "metadata": {},
     "output_type": "execute_result"
    }
   ],
   "source": [
    "\"para el tok %s se encontro el cluster con indice %i cuya palabra mas larga es %s\" %  (tok, idx_cluster_of_tok, longest_w_into_cluster)  "
   ]
  },
  {
   "cell_type": "code",
   "execution_count": 65,
   "id": "7ab02177-c6a2-497a-9879-6b057371ddca",
   "metadata": {},
   "outputs": [
    {
     "data": {
      "text/plain": [
       "array(['patan', 'patanes', 'patana', 'patanazo', 'patanas', 'patanada',\n",
       "       'patanazos', 'patano', 'patanto', 'patanatas', 'patansillo'],\n",
       "      dtype='<U72')"
      ]
     },
     "execution_count": 65,
     "metadata": {},
     "output_type": "execute_result"
    }
   ],
   "source": [
    "words_in_cluster"
   ]
  },
  {
   "cell_type": "code",
   "execution_count": null,
   "id": "8efcb164-32bd-46f9-b196-a76d9ee364f0",
   "metadata": {},
   "outputs": [],
   "source": []
  }
 ],
 "metadata": {
  "kernelspec": {
   "display_name": "Python 3",
   "language": "python",
   "name": "python3"
  },
  "language_info": {
   "codemirror_mode": {
    "name": "ipython",
    "version": 3
   },
   "file_extension": ".py",
   "mimetype": "text/x-python",
   "name": "python",
   "nbconvert_exporter": "python",
   "pygments_lexer": "ipython3",
   "version": "3.7.4"
  }
 },
 "nbformat": 4,
 "nbformat_minor": 5
}
