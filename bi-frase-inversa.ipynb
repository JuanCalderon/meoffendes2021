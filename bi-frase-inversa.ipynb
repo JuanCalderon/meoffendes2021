{
 "cells": [
  {
   "cell_type": "code",
   "execution_count": 1,
   "metadata": {},
   "outputs": [
    {
     "data": {
      "text/plain": [
       "((5060, 1), (5060, 1),                                                texto\n",
       " 0  Soy el Clint Eastwood de los Puentes de Madiso...\n",
       " 1  Actualmente ya pasó de moda la pucha joto, aho...\n",
       " 2  ¿Es cierto esto? Y no me refiero a lo que dijo...\n",
       " 3  Vuela pega y esquiva... la neta está de la ver...\n",
       " 4  Mejor puto disfraz de la noche!!!! 👊👊👊Por terc...\n",
       " 5  YA SE CONVIRTIÓ LA K  EN VIRGEN MARIA ,AHORA S...\n",
       " 6  Hoy en día ya casi nadie se muere por VIH, se ...\n",
       " 7  Me quedé sin novia, sin amante &amp; sin ex .....\n",
       " 8  Woou rulo invita..yo tambien quiero mamar esa ...\n",
       " 9  Iba a escribir un tuit disculpándome por todos...,    clase\n",
       " 0      0\n",
       " 1      1\n",
       " 2      0\n",
       " 3      0\n",
       " 4      0\n",
       " 5      1\n",
       " 6      1\n",
       " 7      0\n",
       " 8      1\n",
       " 9      0)"
      ]
     },
     "execution_count": 1,
     "metadata": {},
     "output_type": "execute_result"
    }
   ],
   "source": [
    "import pandas as pd\n",
    "\n",
    "# cargar DataSet con los tweets de entrenamiento\n",
    "train_mx = pd.read_csv('mx-train-data-non-contextual.csv', names=['texto'],  header=0)# , nrows=30, header=1) \n",
    "# cargar las clases de cada tweet de entrenamiento\n",
    "sol = pd.read_csv('mx-train-outputs.sol', names=[\"clase\"])\n",
    "\n",
    "train_mx.shape, sol.shape, train_mx.head(10), sol.head(10)"
   ]
  },
  {
   "cell_type": "code",
   "execution_count": 2,
   "metadata": {},
   "outputs": [
    {
     "data": {
      "text/plain": [
       "((4048, 1),\n",
       " (4048, 2),\n",
       "                                                   texto  clase\n",
       " 1496  DESDE LAS 7 HASTA LAS PUTAS 2 DE LA TARDE SIN ...      0\n",
       " 801           Si te apasiona, rómpete la madre.#berraco      0\n",
       " 2826  Si tu día va de la mierda, recuerda que hay pe...      0\n",
       " 2677  PUTAS ENCUESTAS DE INSTAGRAM, SÓLO VINIERON A ...      0\n",
       " 4212  Sí está de la verga que digan verga niñas, no ...      0,\n",
       "                                                texto  clase\n",
       " 1  Actualmente ya pasó de moda la pucha joto, aho...      1)"
      ]
     },
     "execution_count": 2,
     "metadata": {},
     "output_type": "execute_result"
    }
   ],
   "source": [
    "import sklearn.model_selection as model_selection\n",
    "\n",
    "# split del datataset completo en entrenamiento | test\n",
    "X_train, X_test, y_train, y_test = model_selection.train_test_split(train_mx, sol, train_size=0.8, random_state=True)\n",
    "\n",
    "# Juntar texto|clase y re-ordenar aleatoriamente \n",
    "X_y_train_shuffled = X_train.join(y_train).sample(frac=1)\n",
    "\n",
    "X_train.shape, X_y_train_shuffled.shape, X_y_train_shuffled.head(5), X_y_train_shuffled.loc[[1]]"
   ]
  },
  {
   "cell_type": "code",
   "execution_count": 3,
   "metadata": {},
   "outputs": [
    {
     "name": "stdout",
     "output_type": "stream",
     "text": [
      "154    #YoNoPuedoEvitarQue insulte a los que no ponen sus putas direccionales.\n",
      "Name: texto, dtype: object\n",
      "     clase\n",
      "154  0    \n"
     ]
    }
   ],
   "source": [
    "with pd.option_context('display.max_colwidth', -1):\n",
    "    print(X_y_train_shuffled.loc[[154]]['texto'])\n",
    "    print(sol.loc[[154]])"
   ]
  },
  {
   "cell_type": "code",
   "execution_count": 4,
   "metadata": {},
   "outputs": [
    {
     "data": {
      "text/plain": [
       "(5517, 2)"
      ]
     },
     "execution_count": 4,
     "metadata": {},
     "output_type": "execute_result"
    }
   ],
   "source": [
    "# aumentado de X_train / y_train con bi-frases\n",
    "_ = X_y_train_shuffled.iloc[0]\n",
    "train_bi_frase = pd.DataFrame([_], columns = ['texto', 'clase'])\n",
    "train_bi_frase\n",
    "\n",
    "for index, row in X_y_train_shuffled.iloc[1:].iterrows():\n",
    "    try:\n",
    "        train_bi_frase =  train_bi_frase.append(row)\n",
    "        if _['clase'] == row['clase']:\n",
    "            bi_frase = {'texto': '> ' + _['texto'] + ' | ' + row['texto'], 'clase':row['clase']}\n",
    "            train_bi_frase = train_bi_frase.append(bi_frase, ignore_index=True)\n",
    "            _ =  {'texto': '_VACIA_', 'clase': 9}\n",
    "        else:   \n",
    "            _ = row\n",
    "    except Exception as exc:\n",
    "        print(exc)\n",
    "        _ = row\n",
    "        continue\n",
    "        \n",
    "train_bi_frase.shape"
   ]
  },
  {
   "cell_type": "code",
   "execution_count": 5,
   "metadata": {},
   "outputs": [
    {
     "name": "stdout",
     "output_type": "stream",
     "text": [
      "                                                texto  clase\n",
      "0   DESDE LAS 7 HASTA LAS PUTAS 2 DE LA TARDE SIN ...      0\n",
      "1           Si te apasiona, rómpete la madre.#berraco      0\n",
      "2   > DESDE LAS 7 HASTA LAS PUTAS 2 DE LA TARDE SI...      0\n",
      "3   Si tu día va de la mierda, recuerda que hay pe...      0\n",
      "4   PUTAS ENCUESTAS DE INSTAGRAM, SÓLO VINIERON A ...      0\n",
      "5   > Si tu día va de la mierda, recuerda que hay ...      0\n",
      "6   Sí está de la verga que digan verga niñas, no ...      0\n",
      "7   Me mama como me vale verga que se que tengo qu...      0\n",
      "8   > Sí está de la verga que digan verga niñas, n...      0\n",
      "9   Tas viendo que la gorda es aventada y le pones...      0\n",
      "11  Está cagado que ayer no tomé alcohol y amanecí...      0\n",
      "12  Gorda chancho me dijeron por Sarahah JAJAJAJAJ...      0\n",
      "13  > Está cagado que ayer no tomé alcohol y amane...      0\n",
      "                                                texto  clase\n",
      "10  Pero si hubiera sido otro que si lo hubiera pa...      1\n",
      "26  🇦🇷🎶😮🎶 ¡Así cantan en el vestuario de #Argentin...      1\n",
      "27  Tan de la verga está la selección Argentina qu...      1\n",
      "28  > 🇦🇷🎶😮🎶 ¡Así cantan en el vestuario de #Argent...      1\n",
      "35   @USUARIO @USUARIO Chinguen a su puta perra ma...      1\n",
      "40  También eran buenos tiempos cuando me tenías f...      1\n",
      "41  Si no le pagamos a coppel menos le vamos a pag...      1\n",
      "42  > También eran buenos tiempos cuando me tenías...      1\n",
      "49  @USUARIO @USUARIO Estan igual de feas que quieren      1\n",
      "51  Y chingas a tu puta madre, si te llego a encon...      1\n",
      "52  Putos corazones a ella si no? Ojalá te cargue ...      1\n",
      "53  > Y chingas a tu puta madre, si te llego a enc...      1\n",
      "58  Los de medicina interna son putos, viene en el...      1\n"
     ]
    }
   ],
   "source": [
    "# solo para checar algunas bi-frases\n",
    "print(train_bi_frase.loc[(train_bi_frase['clase'] == 0)].head(13))\n",
    "print(train_bi_frase.loc[(train_bi_frase['clase'] == 1)].head(13))"
   ]
  },
  {
   "cell_type": "code",
   "execution_count": 6,
   "metadata": {},
   "outputs": [
    {
     "name": "stdout",
     "output_type": "stream",
     "text": [
      "2    > DESDE LAS 7 HASTA LAS PUTAS 2 DE LA TARDE SIN HACER NADA, ME QUIERO COLGAAAAAAAR. | Si te apasiona, rómpete la madre.#berraco\n",
      "Name: texto, dtype: object\n",
      "28    > 🇦🇷🎶😮🎶 ¡Así cantan en el vestuario de #Argentina!  \"No me importa lo que digan esos putos periodistas\" | Tan de la verga está la selección Argentina que hoy debutó Darío Benedetto.\n",
      "Name: texto, dtype: object\n"
     ]
    }
   ],
   "source": [
    "# ver una bifrase completa por índice\n",
    "with pd.option_context('display.max_colwidth', -1):\n",
    "    print(train_bi_frase.loc[[2]]['texto'])\n",
    "    print(train_bi_frase.loc[[28]]['texto'])"
   ]
  },
  {
   "cell_type": "code",
   "execution_count": 7,
   "metadata": {},
   "outputs": [
    {
     "data": {
      "text/plain": [
       "((5517,), (5517,), 0    DESDE LAS 7 HASTA LAS PUTAS 2 DE LA TARDE SIN ...\n",
       " 1            Si te apasiona, rómpete la madre.#berraco\n",
       " 2    > DESDE LAS 7 HASTA LAS PUTAS 2 DE LA TARDE SI...\n",
       " 3    Si tu día va de la mierda, recuerda que hay pe...\n",
       " 4    PUTAS ENCUESTAS DE INSTAGRAM, SÓLO VINIERON A ...\n",
       " Name: texto, dtype: object, 0    0\n",
       " 1    0\n",
       " 2    0\n",
       " 3    0\n",
       " 4    0\n",
       " Name: clase, dtype: int64)"
      ]
     },
     "execution_count": 7,
     "metadata": {},
     "output_type": "execute_result"
    }
   ],
   "source": [
    "# re-split del train_bi_frase\n",
    "\n",
    "X_train = train_bi_frase['texto']\n",
    "y_train = train_bi_frase['clase']\n",
    "\n",
    "X_train = X_train.squeeze() \n",
    "X_test = X_test.squeeze() \n",
    "y_train = y_train.squeeze() \n",
    "y_test = y_test.squeeze()\n",
    "\n",
    "X_train.shape, y_train.shape, X_train.head(), y_train.head()"
   ]
  },
  {
   "cell_type": "code",
   "execution_count": 8,
   "metadata": {},
   "outputs": [
    {
     "data": {
      "text/plain": [
       "'C:\\\\Users\\\\Calderas\\\\Anaconda3\\\\lib\\\\site-packages\\\\EvoMSA\\\\models\\\\haha2018_Es.evomsa'"
      ]
     },
     "execution_count": 8,
     "metadata": {},
     "output_type": "execute_result"
    }
   ],
   "source": [
    "# modelos para EvomSA\n",
    "\n",
    "from EvoMSA.utils import download\n",
    "from EvoMSA.base import EvoMSA\n",
    "\n",
    "from sklearn import metrics\n",
    "from sklearn.metrics import classification_report\n",
    "\n",
    "haha = download('haha2018_Es.evomsa')\n",
    "mexa3t = download('mexa3t2018_aggress_Es.evomsa')\n",
    "misoginia = download('misoginia_Es.evomsa')\n",
    "\n",
    "haha"
   ]
  },
  {
   "cell_type": "code",
   "execution_count": 9,
   "metadata": {},
   "outputs": [
    {
     "name": "stderr",
     "output_type": "stream",
     "text": [
      "C:\\Users\\Calderas\\Anaconda3\\lib\\site-packages\\sklearn\\base.py:315: UserWarning: Trying to unpickle estimator LinearSVC from version 0.22.1 when using version 0.24.1. This might lead to breaking code or invalid results. Use at your own risk.\n",
      "  UserWarning)\n",
      "C:\\Users\\Calderas\\Anaconda3\\lib\\site-packages\\sklearn\\base.py:315: UserWarning: Trying to unpickle estimator GaussianNB from version 0.22.1 when using version 0.24.1. This might lead to breaking code or invalid results. Use at your own risk.\n",
      "  UserWarning)\n",
      " 33%|███▎      | 2/6 [01:05<02:03, 30.85s/it]\n",
      "  0%|          | 0/3 [00:00<?, ?it/s]\n",
      " 33%|███▎      | 1/3 [00:18<00:36, 18.05s/it]\n",
      " 67%|██████▋   | 2/3 [00:31<00:16, 16.75s/it]\n",
      "100%|██████████| 3/3 [00:36<00:00, 12.21s/it]\n",
      "\n",
      "100%|██████████| 3/3 [00:00<00:00, 66.82it/s]\n",
      " 50%|█████     | 3/6 [01:42<01:37, 32.60s/it]\n",
      "  0%|          | 0/1 [00:00<?, ?it/s]\n",
      "100%|██████████| 1/1 [00:13<00:00, 13.46s/it]\n",
      "\n",
      "100%|██████████| 1/1 [00:00<00:00, 91.13it/s]\n",
      " 67%|██████▋   | 4/6 [01:55<00:53, 26.87s/it]\n",
      "  0%|          | 0/4 [00:00<?, ?it/s]\n",
      " 25%|██▌       | 1/4 [00:13<00:39, 13.15s/it]\n",
      " 50%|█████     | 2/4 [00:18<00:21, 10.71s/it]\n",
      " 75%|███████▌  | 3/4 [00:22<00:08,  8.87s/it]\n",
      "100%|██████████| 4/4 [00:25<00:00,  6.48s/it]\n",
      "\n",
      "100%|██████████| 4/4 [00:00<00:00, 100.26it/s]\n",
      "100%|██████████| 6/6 [02:24<00:00, 24.15s/it]\n",
      "100%|██████████| 5/5 [00:02<00:00,  2.46it/s]\n",
      "100%|██████████| 5/5 [00:02<00:00,  2.37it/s]\n",
      "100%|██████████| 5/5 [00:00<00:00, 84.98it/s]\n",
      "100%|██████████| 5/5 [00:00<00:00, 86.45it/s]\n",
      "100%|██████████| 5/5 [00:00<00:00, 90.39it/s]\n",
      "100%|██████████| 5/5 [00:00<00:00, 124.89it/s]\n"
     ]
    },
    {
     "name": "stdout",
     "output_type": "stream",
     "text": [
      "165.81858587265015 seconds\n"
     ]
    },
    {
     "name": "stderr",
     "output_type": "stream",
     "text": [
      " 33%|███▎      | 2/6 [00:08<00:16,  4.12s/it]\n",
      "  0%|          | 0/3 [00:00<?, ?it/s]\n",
      " 33%|███▎      | 1/3 [00:02<00:05,  2.52s/it]\n",
      " 67%|██████▋   | 2/3 [00:04<00:02,  2.21s/it]\n",
      "100%|██████████| 3/3 [00:04<00:00,  1.57s/it]\n",
      "\n",
      "100%|██████████| 3/3 [00:00<00:00, 429.70it/s]\n",
      " 50%|█████     | 3/6 [00:13<00:12,  4.31s/it]\n",
      "  0%|          | 0/1 [00:00<?, ?it/s]\n",
      "100%|██████████| 1/1 [00:02<00:00,  2.14s/it]\n",
      "\n",
      "100%|██████████| 1/1 [00:00<00:00, 501.53it/s]\n",
      " 67%|██████▋   | 4/6 [00:15<00:07,  3.66s/it]\n",
      "  0%|          | 0/4 [00:00<?, ?it/s]\n",
      " 25%|██▌       | 1/4 [00:02<00:06,  2.32s/it]\n",
      " 50%|█████     | 2/4 [00:03<00:03,  1.85s/it]\n",
      " 75%|███████▌  | 3/4 [00:03<00:01,  1.53s/it]\n",
      "100%|██████████| 4/4 [00:04<00:00,  1.09s/it]\n",
      "\n",
      "100%|██████████| 4/4 [00:00<00:00, 500.66it/s]\n",
      "100%|██████████| 6/6 [00:20<00:00,  3.42s/it]\n",
      "100%|██████████| 6/6 [00:00<00:00, 602.25it/s]\n"
     ]
    },
    {
     "name": "stdout",
     "output_type": "stream",
     "text": [
      "[0 0 1 ... 0 0 1]\n"
     ]
    }
   ],
   "source": [
    "# Clasificador con Modelos\n",
    "evo = EvoMSA(TR=True, B4MSA=False, lang='es', Aggress=True,\n",
    "                 stacked_method='sklearn.naive_bayes.GaussianNB',\n",
    "                 models=[\n",
    "                     [\"text_model_inv.TextModelInv\",\"sklearn.svm.LinearSVC\"],\n",
    "                     [misoginia, \"sklearn.svm.LinearSVC\"],\n",
    "                     [haha, \"sklearn.svm.LinearSVC\"] ,\n",
    "                     [mexa3t, \"sklearn.svm.LinearSVC\"]\n",
    "                 ])\n",
    "\n",
    "import time\n",
    "start = time.time()\n",
    "# Entrenamiento X_train | y_train\n",
    "evo.fit(X_train, y_train)    \n",
    "print(time.time() - start, \"seconds\")\n",
    "\n",
    "# Predicción con X_test\n",
    "pred = evo.predict(X_test)\n",
    "print(pred)"
   ]
  },
  {
   "cell_type": "code",
   "execution_count": 15,
   "metadata": {},
   "outputs": [],
   "source": [
    "print(\"       f1 score micro:\", metrics.f1_score(y_test, pred, average=\"micro\"))\n",
    "print(\"precision score micro:\", metrics.precision_score(y_test, pred, average=\"micro\"))\n",
    "print(\"   recall score micro:\", metrics.recall_score(y_test, pred, average=\"micro\"))  "
   ]
  },
  {
   "cell_type": "code",
   "execution_count": 15,
   "metadata": {},
   "outputs": [
    {
     "name": "stdout",
     "output_type": "stream",
     "text": [
      "       f1 score micro: 0.8171936758893281\n",
      "precision score micro: 0.817193675889328\n",
      "   recall score micro: 0.817193675889328\n"
     ]
    }
   ],
   "source": [
    "  "
   ]
  },
  {
   "cell_type": "code",
   "execution_count": 17,
   "metadata": {},
   "outputs": [
    {
     "name": "stdout",
     "output_type": "stream",
     "text": [
      "       f1 score micro: 0.8231225296442687\n",
      "precision score micro: 0.8231225296442688\n",
      "   recall score micro: 0.8231225296442688\n"
     ]
    }
   ],
   "source": [
    "## Con TextModelInv\n",
    "print(\"       f1 score micro:\", metrics.f1_score(y_test, pred, average=\"micro\"))\n",
    "print(\"precision score micro:\", metrics.precision_score(y_test, pred, average=\"micro\"))\n",
    "print(\"   recall score micro:\", metrics.recall_score(y_test, pred, average=\"micro\"))  "
   ]
  },
  {
   "cell_type": "code",
   "execution_count": 12,
   "metadata": {},
   "outputs": [
    {
     "name": "stdout",
     "output_type": "stream",
     "text": [
      "       f1 score micro: 0.7885375494071146\n",
      "precision score micro: 0.7885375494071146\n",
      "   recall score micro: 0.7885375494071146\n"
     ]
    }
   ],
   "source": [
    "## Con Bi-Frase\n",
    "print(\"       f1 score micro:\", metrics.f1_score(y_test, pred, average=\"micro\"))\n",
    "print(\"precision score micro:\", metrics.precision_score(y_test, pred, average=\"micro\"))\n",
    "print(\"   recall score micro:\", metrics.recall_score(y_test, pred, average=\"micro\"))  "
   ]
  },
  {
   "cell_type": "code",
   "execution_count": 46,
   "metadata": {},
   "outputs": [
    {
     "name": "stdout",
     "output_type": "stream",
     "text": [
      "       f1 score macro: 0.7584124245038827\n",
      "precision score macro: 0.796875\n",
      "   recall score macro: 0.738244514106583\n",
      "       f1 score micro: 0.825\n",
      "precision score micro: 0.825\n",
      "   recall score micro: 0.825\n"
     ]
    }
   ],
   "source": [
    "## Con Bi-Frase SIN IS-BI-FRASE\n",
    "print(\"       f1 score macro:\", metrics.f1_score(y_test, pred, average=\"macro\"))\n",
    "print(\"precision score macro:\", metrics.precision_score(y_test, pred, average=\"macro\"))\n",
    "print(\"   recall score macro:\", metrics.recall_score(y_test, pred, average=\"macro\"))  \n",
    "print(\"       f1 score micro:\", metrics.f1_score(y_test, pred, average=\"micro\"))\n",
    "print(\"precision score micro:\", metrics.precision_score(y_test, pred, average=\"micro\"))\n",
    "print(\"   recall score micro:\", metrics.recall_score(y_test, pred, average=\"micro\"))  "
   ]
  },
  {
   "cell_type": "code",
   "execution_count": 10,
   "metadata": {},
   "outputs": [
    {
     "name": "stdout",
     "output_type": "stream",
     "text": [
      "       f1 score macro: 0.7455019894328498\n",
      "precision score macro: 0.7384106759332996\n",
      "   recall score macro: 0.7545803592135439\n",
      "       f1 score micro: 0.8003952569169961\n",
      "precision score micro: 0.8003952569169961\n",
      "   recall score micro: 0.8003952569169961\n"
     ]
    }
   ],
   "source": [
    "## Con Bi-Frase SIN IS-BI-FRASE\n",
    "print(\"       f1 score macro:\", metrics.f1_score(y_test, pred, average=\"macro\"))\n",
    "print(\"precision score macro:\", metrics.precision_score(y_test, pred, average=\"macro\"))\n",
    "print(\"   recall score macro:\", metrics.recall_score(y_test, pred, average=\"macro\"))  \n",
    "print(\"       f1 score micro:\", metrics.f1_score(y_test, pred, average=\"micro\"))\n",
    "print(\"precision score micro:\", metrics.precision_score(y_test, pred, average=\"micro\"))\n",
    "print(\"   recall score micro:\", metrics.recall_score(y_test, pred, average=\"micro\"))  "
   ]
  },
  {
   "cell_type": "code",
   "execution_count": 12,
   "metadata": {},
   "outputs": [],
   "source": []
  },
  {
   "cell_type": "code",
   "execution_count": 12,
   "metadata": {},
   "outputs": [
    {
     "name": "stdout",
     "output_type": "stream",
     "text": [
      "F1_Score Macro:  0.757215014232268\n"
     ]
    }
   ],
   "source": [
    "# Métricas contra y_test\n",
    "print(\"F1_Score Macro: \", metrics.f1_score(y_test, pred, average=\"macro\"))"
   ]
  },
  {
   "cell_type": "code",
   "execution_count": 13,
   "metadata": {},
   "outputs": [
    {
     "name": "stdout",
     "output_type": "stream",
     "text": [
      "              precision    recall  f1-score   support\n",
      "\n",
      "    Ofensivo     0.8750    0.8808    0.8779       755\n",
      " No-Ofensivo     0.6429    0.6304    0.6365       257\n",
      "\n",
      "    accuracy                         0.8172      1012\n",
      "   macro avg     0.7589    0.7556    0.7572      1012\n",
      "weighted avg     0.8160    0.8172    0.8166      1012\n",
      "\n"
     ]
    }
   ],
   "source": [
    "target_names = ['Ofensivo', 'No-Ofensivo']\n",
    "print(classification_report(y_test, pred, target_names=target_names, digits=4)) "
   ]
  },
  {
   "cell_type": "code",
   "execution_count": 14,
   "metadata": {},
   "outputs": [
    {
     "data": {
      "text/plain": [
       "(0.817193675889328, 0.817193675889328, 0.8171936758893281, None)"
      ]
     },
     "execution_count": 14,
     "metadata": {},
     "output_type": "execute_result"
    }
   ],
   "source": [
    "metrics.precision_recall_fscore_support(y_test, pred, average=\"micro\")"
   ]
  },
  {
   "cell_type": "code",
   "execution_count": 15,
   "metadata": {},
   "outputs": [
    {
     "name": "stdout",
     "output_type": "stream",
     "text": [
      "       f1 score micro: 0.8171936758893281\n",
      "precision score micro: 0.817193675889328\n",
      "   recall score micro: 0.817193675889328\n"
     ]
    }
   ],
   "source": [
    "print(\"       f1 score micro:\", metrics.f1_score(y_test, pred, average=\"micro\"))\n",
    "print(\"precision score micro:\", metrics.precision_score(y_test, pred, average=\"micro\"))\n",
    "print(\"   recall score micro:\", metrics.recall_score(y_test, pred, average=\"micro\"))    "
   ]
  },
  {
   "cell_type": "code",
   "execution_count": null,
   "metadata": {},
   "outputs": [],
   "source": []
  }
 ],
 "metadata": {
  "kernelspec": {
   "display_name": "Python 3",
   "language": "python",
   "name": "python3"
  },
  "language_info": {
   "codemirror_mode": {
    "name": "ipython",
    "version": 3
   },
   "file_extension": ".py",
   "mimetype": "text/x-python",
   "name": "python",
   "nbconvert_exporter": "python",
   "pygments_lexer": "ipython3",
   "version": "3.7.4"
  }
 },
 "nbformat": 4,
 "nbformat_minor": 4
}
